{
 "cells": [
  {
   "cell_type": "markdown",
   "metadata": {},
   "source": [
    "# SpaceShooter game for two human players"
   ]
  },
  {
   "cell_type": "markdown",
   "metadata": {},
   "source": [
    "## Import libiaries"
   ]
  },
  {
   "cell_type": "code",
   "execution_count": 1,
   "metadata": {},
   "outputs": [
    {
     "name": "stdout",
     "output_type": "stream",
     "text": [
      "pygame 2.1.2 (SDL 2.0.18, Python 3.9.10)\n",
      "Hello from the pygame community. https://www.pygame.org/contribute.html\n"
     ]
    }
   ],
   "source": [
    "# Import libraries for SpaceShooter game\n",
    "import pygame\n",
    "import time\n",
    "import os"
   ]
  },
  {
   "cell_type": "markdown",
   "metadata": {},
   "source": [
    "## Initialise settings "
   ]
  },
  {
   "cell_type": "code",
   "execution_count": 2,
   "metadata": {},
   "outputs": [],
   "source": [
    "pygame.font.init()\n",
    "pygame.mixer.init()\n",
    "\n",
    "WIDTH, HEIGHT = 900, 500\n",
    "WIN = pygame.display.set_mode((WIDTH, HEIGHT))\n",
    "BORDER = pygame.Rect(WIDTH//2 - 5, 0, 10, HEIGHT)\n",
    "HEALTH_FONT = pygame.font.SysFont('comicsans', 40)\n",
    "WINNER_FONT = pygame.font.SysFont('comicsans', 100)\n",
    "FPS = 60\n",
    "pygame.display.set_caption(\"SpaceShooter two players\")"
   ]
  },
  {
   "cell_type": "markdown",
   "metadata": {},
   "source": [
    "## Set colours"
   ]
  },
  {
   "cell_type": "code",
   "execution_count": 3,
   "metadata": {},
   "outputs": [],
   "source": [
    "WHITE = (255, 255, 255)\n",
    "BLACK = (0, 0, 0)\n",
    "RED = (255, 0, 0)\n",
    "YELLOW = (255, 255, 0)"
   ]
  },
  {
   "cell_type": "markdown",
   "metadata": {},
   "source": [
    "## Initialise physics\n"
   ]
  },
  {
   "cell_type": "code",
   "execution_count": 4,
   "metadata": {},
   "outputs": [],
   "source": [
    "VEL = 5\n",
    "BULLET_VEL = 5\n",
    "MAX_BULLETS = 4\n",
    "SPACESHIP_WIDTH, SPACESHIP_HEIGHT = 55, 40"
   ]
  },
  {
   "cell_type": "markdown",
   "metadata": {},
   "source": [
    "## Initialise images and sounds"
   ]
  },
  {
   "cell_type": "code",
   "execution_count": 5,
   "metadata": {
    "scrolled": true
   },
   "outputs": [],
   "source": [
    "YELLOW_HIT = pygame.USEREVENT + 1\n",
    "RED_HIT = pygame.USEREVENT + 2\n",
    "\n",
    "YELLOW_SPACESHIP_IMAGE = pygame.image.load(os.path.join('Assets', 'spaceship_yellow.png'))\n",
    "YELLOW_SPACESHIP = pygame.transform.rotate(pygame.transform.scale(YELLOW_SPACESHIP_IMAGE, (SPACESHIP_WIDTH, SPACESHIP_HEIGHT)), 90)\n",
    "\n",
    "RED_SPACESHIP_IMAGE = pygame.image.load(os.path.join('Assets', 'spaceship_red.png'))\n",
    "RED_SPACESHIP = pygame.transform.rotate(pygame.transform.scale(RED_SPACESHIP_IMAGE, (SPACESHIP_WIDTH, SPACESHIP_HEIGHT)), 270)\n",
    "\n",
    "SPACE = pygame.transform.scale(pygame.image.load(os.path.join('Assets', 'space_background.png')), (WIDTH, HEIGHT))\n",
    "\n",
    "HEART_IMAGE = pygame.image.load(os.path.join('Assets', 'heart.png')).convert_alpha()\n",
    "HEART = pygame.transform.scale(HEART_IMAGE, (40, 40))\n",
    "\n",
    "BULLET_HIT_SOUND = pygame.mixer.Sound('Assets/Grenade+1.mp3')\n",
    "BULLET_FIRE_SOUND = pygame.mixer.Sound('Assets/Gun+Silencer.mp3')"
   ]
  },
  {
   "cell_type": "markdown",
   "metadata": {},
   "source": [
    "## Functions "
   ]
  },
  {
   "cell_type": "code",
   "execution_count": 6,
   "metadata": {},
   "outputs": [],
   "source": [
    "def draw_window(red, yellow, red_bullets, yellow_bullets, red_health, yellow_health):\n",
    "    WIN.blit(SPACE, (0, 0))\n",
    "    pygame.draw.rect(WIN, BLACK, BORDER)\n",
    "\n",
    "    red_health_text = HEALTH_FONT.render(str(red_health), 1, RED)\n",
    "    yellow_health_text = HEALTH_FONT.render(str(yellow_health), 1, RED)\n",
    "    \n",
    "    WIN.blit(HEART, (WIDTH - 100, 17))\n",
    "    WIN.blit(red_health_text, (WIDTH - 50, 10))\n",
    "    WIN.blit(HEART, (10, 17))\n",
    "    WIN.blit(yellow_health_text, (60, 10))\n",
    "\n",
    "    WIN.blit(YELLOW_SPACESHIP, (yellow.x, yellow.y))\n",
    "    WIN.blit(RED_SPACESHIP, (red.x, red.y))\n",
    "\n",
    "    for bullet in red_bullets:\n",
    "        pygame.draw.rect(WIN, RED, bullet)\n",
    "\n",
    "    for bullet in yellow_bullets:\n",
    "        pygame.draw.rect(WIN, YELLOW, bullet)\n",
    "\n",
    "    pygame.display.update()"
   ]
  },
  {
   "cell_type": "code",
   "execution_count": 7,
   "metadata": {},
   "outputs": [],
   "source": [
    "def yellow_handle_movement(keys_pressed, yellow):\n",
    "    if keys_pressed[pygame.K_a] and yellow.x - VEL > 0:  # LEFT\n",
    "        yellow.x -= VEL\n",
    "    if keys_pressed[pygame.K_d] and yellow.x + VEL + yellow.width < BORDER.x:  # RIGHT\n",
    "        yellow.x += VEL\n",
    "    if keys_pressed[pygame.K_w] and yellow.y - VEL > 0:  # UP\n",
    "        yellow.y -= VEL\n",
    "    if keys_pressed[pygame.K_s] and yellow.y + VEL + yellow.height < HEIGHT - 15:  # DOWN\n",
    "        yellow.y += VEL"
   ]
  },
  {
   "cell_type": "code",
   "execution_count": 8,
   "metadata": {},
   "outputs": [],
   "source": [
    "def red_handle_movement(keys_pressed, red):\n",
    "    if keys_pressed[pygame.K_j] and red.x - VEL > BORDER.x + BORDER.width:  # LEFT\n",
    "        red.x -= VEL\n",
    "    if keys_pressed[pygame.K_l] and red.x + VEL + red.width < WIDTH:  # RIGHT\n",
    "        red.x += VEL\n",
    "    if keys_pressed[pygame.K_i] and red.y - VEL > 0:  # UP\n",
    "        red.y -= VEL\n",
    "    if keys_pressed[pygame.K_k] and red.y + VEL + red.height < HEIGHT - 15:  # DOWN\n",
    "        red.y += VEL"
   ]
  },
  {
   "cell_type": "code",
   "execution_count": 9,
   "metadata": {},
   "outputs": [],
   "source": [
    "def handle_bullets(yellow_bullets, red_bullets, yellow, red):\n",
    "    for bullet in yellow_bullets:\n",
    "        bullet.x += BULLET_VEL\n",
    "        if red.colliderect(bullet):\n",
    "            pygame.event.post(pygame.event.Event(RED_HIT))\n",
    "            yellow_bullets.remove(bullet)\n",
    "        elif bullet.x > WIDTH:\n",
    "            yellow_bullets.remove(bullet)\n",
    "\n",
    "    for bullet in red_bullets:\n",
    "        bullet.x -= BULLET_VEL\n",
    "        if yellow.colliderect(bullet):\n",
    "            pygame.event.post(pygame.event.Event(YELLOW_HIT))\n",
    "            red_bullets.remove(bullet)\n",
    "        elif bullet.x < 0:\n",
    "            red_bullets.remove(bullet)"
   ]
  },
  {
   "cell_type": "code",
   "execution_count": 10,
   "metadata": {},
   "outputs": [],
   "source": [
    "def draw_winner(text, colour):\n",
    "    draw_text = WINNER_FONT.render(text, 1, colour)\n",
    "    WIN.blit(draw_text, (WIDTH/2 - draw_text.get_width()/2, HEIGHT/2 - draw_text.get_height()/2))\n",
    "    pygame.display.update()\n",
    "    pygame.time.delay(2500)"
   ]
  },
  {
   "cell_type": "markdown",
   "metadata": {},
   "source": [
    "## SpaceShooter main"
   ]
  },
  {
   "cell_type": "code",
   "execution_count": 11,
   "metadata": {},
   "outputs": [],
   "source": [
    "def main():\n",
    "    red = pygame.Rect(700, 230, SPACESHIP_WIDTH, SPACESHIP_HEIGHT)\n",
    "    yellow = pygame.Rect(100, 230, SPACESHIP_WIDTH, SPACESHIP_HEIGHT)\n",
    "\n",
    "    red_bullets = []\n",
    "    yellow_bullets = []\n",
    "\n",
    "    red_health = 10\n",
    "    yellow_health = 10\n",
    "    \n",
    "    winner_text = \"\"\n",
    "    clock = pygame.time.Clock()\n",
    "    run = True\n",
    "    \n",
    "    while run:\n",
    "        clock.tick(FPS)\n",
    "        for event in pygame.event.get():\n",
    "            if event.type == pygame.QUIT:\n",
    "                run = False\n",
    "                pygame.quit()\n",
    "\n",
    "            if event.type == pygame.KEYDOWN:\n",
    "                if event.key == pygame.K_LCTRL and len(yellow_bullets) < MAX_BULLETS:\n",
    "                    bullet = pygame.Rect(yellow.x + yellow.width, yellow.y + yellow.height//2, 10, 5)\n",
    "                    yellow_bullets.append(bullet)\n",
    "                    BULLET_FIRE_SOUND.play()\n",
    "\n",
    "                if event.key == pygame.K_RCTRL and len(red_bullets) < MAX_BULLETS:\n",
    "                    bullet = pygame.Rect(red.x, red.y + red.height//2, 10, 5)\n",
    "                    red_bullets.append(bullet)\n",
    "                    BULLET_FIRE_SOUND.play()\n",
    "\n",
    "            if event.type == RED_HIT:\n",
    "                red_health -= 1\n",
    "                BULLET_HIT_SOUND.play()\n",
    "\n",
    "            if event.type == YELLOW_HIT:\n",
    "                yellow_health -= 1\n",
    "                BULLET_HIT_SOUND.play()\n",
    "\n",
    "        if red_health <= 0:\n",
    "            winner_text = \"Yellow Wins!\"\n",
    "            winner_colour = YELLOW\n",
    "\n",
    "        if yellow_health <= 0:\n",
    "            winner_text = \"Red Wins!\"\n",
    "            winner_colour = RED\n",
    "\n",
    "        if winner_text != \"\":\n",
    "            draw_winner(winner_text, winner_colour)\n",
    "            break\n",
    "\n",
    "        keys_pressed = pygame.key.get_pressed()\n",
    "        yellow_handle_movement(keys_pressed, yellow)\n",
    "        red_handle_movement(keys_pressed, red)\n",
    "        handle_bullets(yellow_bullets, red_bullets, yellow, red)\n",
    "        draw_window(red, yellow, red_bullets, yellow_bullets, red_health, yellow_health)\n",
    "        \n",
    "    main()"
   ]
  },
  {
   "cell_type": "code",
   "execution_count": null,
   "metadata": {},
   "outputs": [],
   "source": [
    "if __name__ == \"__main__\":\n",
    "    main()"
   ]
  }
 ],
 "metadata": {
  "kernelspec": {
   "display_name": "Python 3 (ipykernel)",
   "language": "python",
   "name": "python3"
  },
  "language_info": {
   "codemirror_mode": {
    "name": "ipython",
    "version": 3
   },
   "file_extension": ".py",
   "mimetype": "text/x-python",
   "name": "python",
   "nbconvert_exporter": "python",
   "pygments_lexer": "ipython3",
   "version": "3.9.10"
  }
 },
 "nbformat": 4,
 "nbformat_minor": 4
}
