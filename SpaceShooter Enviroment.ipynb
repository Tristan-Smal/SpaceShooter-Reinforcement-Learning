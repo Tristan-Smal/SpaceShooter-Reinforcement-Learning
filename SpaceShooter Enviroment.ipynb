{
 "cells": [
  {
   "cell_type": "markdown",
   "metadata": {},
   "source": [
    "# Spaceshooter Enviroment"
   ]
  },
  {
   "cell_type": "markdown",
   "metadata": {},
   "source": [
    "## Import libiaries"
   ]
  },
  {
   "cell_type": "code",
   "execution_count": null,
   "metadata": {},
   "outputs": [],
   "source": [
    "# Import libraries for SpaceShooter game\n",
    "import pygame\n",
    "import random\n",
    "import time\n",
    "import os"
   ]
  },
  {
   "cell_type": "markdown",
   "metadata": {},
   "source": [
    "## Initialise settings "
   ]
  },
  {
   "cell_type": "code",
   "execution_count": null,
   "metadata": {},
   "outputs": [],
   "source": [
    "pygame.font.init()\n",
    "pygame.mixer.init()\n",
    "\n",
    "WIDTH, HEIGHT = 900, 500\n",
    "WIN = pygame.display.set_mode((WIDTH, HEIGHT))\n",
    "BORDER = pygame.Rect(WIDTH//2 - 5, 0, 10, HEIGHT)\n",
    "HEALTH_FONT = pygame.font.SysFont('comicsans', 40)\n",
    "WINNER_FONT = pygame.font.SysFont('comicsans', 100)\n",
    "FPS = 60"
   ]
  },
  {
   "cell_type": "markdown",
   "metadata": {},
   "source": [
    "## Set colours"
   ]
  },
  {
   "cell_type": "code",
   "execution_count": null,
   "metadata": {},
   "outputs": [],
   "source": [
    "BLACK = (0, 0, 0)\n",
    "RED = (255, 0, 0)\n",
    "YELLOW = (255, 255, 0)\n",
    "PURPLE = (200, 0, 200)"
   ]
  },
  {
   "cell_type": "markdown",
   "metadata": {},
   "source": [
    "## Initialise physics\n"
   ]
  },
  {
   "cell_type": "code",
   "execution_count": null,
   "metadata": {},
   "outputs": [],
   "source": [
    "VEL = 5\n",
    "BULLET_VEL = 5\n",
    "MAX_BULLETS = 4\n",
    "SPACESHIP_WIDTH, SPACESHIP_HEIGHT = 55, 40"
   ]
  },
  {
   "cell_type": "markdown",
   "metadata": {},
   "source": [
    "## Initialise images and sounds"
   ]
  },
  {
   "cell_type": "code",
   "execution_count": null,
   "metadata": {
    "scrolled": true
   },
   "outputs": [],
   "source": [
    "YELLOW_HIT = pygame.USEREVENT + 1\n",
    "RED_HIT = pygame.USEREVENT + 2\n",
    "\n",
    "# Heart image\n",
    "HEART_IMAGE = pygame.image.load(os.path.join('Assets', 'heart.png')).convert_alpha()\n",
    "HEART = pygame.transform.scale(HEART_IMAGE, (40, 40))\n",
    "\n",
    "# Yellow spaceShip image\n",
    "YELLOW_SPACESHIP_IMAGE = pygame.image.load(os.path.join('Assets', 'spaceship_yellow.png'))\n",
    "YELLOW_SPACESHIP = pygame.transform.rotate(pygame.transform.scale(YELLOW_SPACESHIP_IMAGE, (SPACESHIP_WIDTH, SPACESHIP_HEIGHT)), 90)\n",
    "\n",
    "# Red spaceship image\n",
    "RED_SPACESHIP_IMAGE = pygame.image.load(os.path.join('Assets', 'spaceship_red.png'))\n",
    "RED_SPACESHIP = pygame.transform.rotate(pygame.transform.scale(RED_SPACESHIP_IMAGE, (SPACESHIP_WIDTH, SPACESHIP_HEIGHT)), 270)\n",
    "\n",
    "# Backround image\n",
    "SPACE = pygame.transform.scale(pygame.image.load(os.path.join('Assets', 'space_background_2.jpg')), (WIDTH, HEIGHT))\n",
    "\n",
    "# Game sounds\n",
    "BULLET_HIT_SOUND = pygame.mixer.Sound('Assets/Grenade+1.mp3')\n",
    "BULLET_FIRE_SOUND = pygame.mixer.Sound('Assets/Gun+Silencer.mp3')\n",
    "EZPZ = pygame.mixer.Sound('Assets/ezpz.mp3')"
   ]
  },
  {
   "cell_type": "markdown",
   "metadata": {},
   "source": [
    "## Build enviroment"
   ]
  },
  {
   "cell_type": "code",
   "execution_count": null,
   "metadata": {},
   "outputs": [],
   "source": [
    "class SpaceShooterEnv:\n",
    "    \n",
    "    def __init__(self):\n",
    "        # Init display\n",
    "        pygame.display.set_caption(\"SpaceShooterEnv\")\n",
    "        self.BORDER = pygame.Rect(WIDTH//2 - 5, 0, 10, HEIGHT)\n",
    "        self.clock = pygame.time.Clock()\n",
    "        self.reset()\n",
    "      \n",
    "    def reset(self):\n",
    "       # Reset game state\n",
    "        self.red = pygame.Rect(700, 230, SPACESHIP_WIDTH, SPACESHIP_HEIGHT)\n",
    "        self.yellow = pygame.Rect(100, 230, SPACESHIP_WIDTH, SPACESHIP_HEIGHT)\n",
    "        self.red_bullets = []\n",
    "        self.yellow_bullets = []\n",
    "        self.red_health = 10\n",
    "        self.yellow_health = 10  \n",
    "        self.frame_iteration = 0    \n",
    "        \n",
    "    def step(self):\n",
    "        self.frame_iteration += 1\n",
    "        # Collect user input and perform action \n",
    "        for event in pygame.event.get():\n",
    "            if event.type == pygame.QUIT:\n",
    "                pygame.quit()\n",
    "                quit()\n",
    "            \n",
    "            if event.type == pygame.KEYDOWN:\n",
    "                # Check if yellow spaceship has fired\n",
    "                if event.key == pygame.K_LCTRL and len(self.yellow_bullets) < MAX_BULLETS:\n",
    "                    self.bullet = pygame.Rect(self.yellow.x + self.yellow.width, self.yellow.y + self.yellow.height//2, 10, 5)\n",
    "                    self.yellow_bullets.append(self.bullet)\n",
    "                    BULLET_FIRE_SOUND.play()\n",
    "            \n",
    "                # Check if red spaceship has fired\n",
    "                if event.key == pygame.K_RCTRL and len(self.red_bullets) < MAX_BULLETS:\n",
    "                    self.bullet = pygame.Rect(self.red.x, self.red.y + self.red.height//2, 10, 5)\n",
    "                    self.red_bullets.append(self.bullet)\n",
    "                    BULLET_FIRE_SOUND.play()\n",
    "                \n",
    "        # Get which keys have been pressed \n",
    "        keys_pressed = pygame.key.get_pressed()\n",
    "        # Yellow spaceship\n",
    "        if keys_pressed[pygame.K_a] and self.yellow.x - VEL > 0:  # LEFT\n",
    "            self.yellow.x -= VEL\n",
    "        if keys_pressed[pygame.K_d] and self.yellow.x + VEL + self.yellow.width < BORDER.x:  # RIGHT\n",
    "            self.action = Action.LEFT\n",
    "            self.yellow.x += VEL\n",
    "        if keys_pressed[pygame.K_w] and self.yellow.y - VEL > 0:  # UP\n",
    "            self.yellow.y -= VEL\n",
    "        if keys_pressed[pygame.K_s] and self.yellow.y + VEL + self.yellow.height < HEIGHT - 15:  # DOWN\n",
    "            self.yellow.y += VEL\n",
    "\n",
    "        # Red spaceship\n",
    "        if keys_pressed[pygame.K_j] and self.red.x - VEL > BORDER.x + BORDER.width:  # LEFT\n",
    "            self.red.x -= VEL\n",
    "        if keys_pressed[pygame.K_l] and self.red.x + VEL + red.width < WIDTH:  # RIGHT\n",
    "            self.red.x += VEL\n",
    "        if keys_pressed[pygame.K_i] and self.red.y - VEL > 0:  # UP\n",
    "            self.red.y -= VEL\n",
    "        if keys_pressed[pygame.K_k] and self.red.y + VEL + self.red.height < HEIGHT - 15:  # DOWN\n",
    "            self.red.y += VEL\n",
    "    \n",
    "        # Handle bullets and check if a spaceship is hit          \n",
    "        self.handle_bullets()\n",
    "\n",
    "        # 3. Check if game is over\n",
    "        game_over = False     \n",
    "        if self.red_health <= 0:\n",
    "            game_over = True\n",
    "            self.winner_text = \"Yellow Wins!\"\n",
    "            self.winner_colour = YELLOW\n",
    "            self.draw_winner()\n",
    "            return game_over, self.yellow_health, self.red_health\n",
    "\n",
    "        if self.yellow_health <= 0:\n",
    "            game_over = True\n",
    "            self.winner_text = \"Red Wins!\"\n",
    "            self.winner_colour = RED\n",
    "            self.draw_winner()\n",
    "            return game_over, self.yellow_health, self.red_health\n",
    "        \n",
    "        # 4. Update UI and Clock \n",
    "        self.draw_window()\n",
    "        self.clock.tick(FPS)\n",
    "        return game_over, self.yellow_health, self.red_health\n",
    "        \n",
    "    def handle_bullets(self):\n",
    "        # Handle yellow bullets\n",
    "        for self.bullet in self.yellow_bullets:\n",
    "            self.bullet.x += BULLET_VEL\n",
    "            if self.red.colliderect(self.bullet):\n",
    "                self.red_health -= 1\n",
    "                self.yellow_bullets.remove(self.bullet)\n",
    "                BULLET_HIT_SOUND.play()\n",
    "            elif self.bullet.x > WIDTH:\n",
    "                self.yellow_bullets.remove(self.bullet)\n",
    "        \n",
    "        # Handle red bullets\n",
    "        for self.bullet in self.red_bullets:\n",
    "            self.bullet.x -= BULLET_VEL\n",
    "            if self.yellow.colliderect(self.bullet):\n",
    "                self.yellow_health -= 1\n",
    "                self.red_bullets.remove(self.bullet)\n",
    "                BULLET_HIT_SOUND.play()\n",
    "            elif self.bullet.x < 0:\n",
    "                self.red_bullets.remove(self.bullet)\n",
    "            \n",
    "    # Render\n",
    "    def draw_window(self):\n",
    "        WIN.blit(SPACE, (0, 0))\n",
    "        pygame.draw.rect(WIN, PURPLE, BORDER)\n",
    "\n",
    "        self.red_health_text = HEALTH_FONT.render(str(self.red_health), 1, RED)\n",
    "        self.yellow_health_text = HEALTH_FONT.render(str(self.yellow_health), 1, RED)\n",
    "        \n",
    "        # Draw Spaceship health \n",
    "        WIN.blit(HEART, (WIDTH - 100, 17))\n",
    "        WIN.blit(self.red_health_text, (WIDTH - 50, 10))\n",
    "        WIN.blit(HEART, (10, 17))\n",
    "        WIN.blit(self.yellow_health_text, (60, 10))\n",
    "        \n",
    "        # Draw Spaceships\n",
    "        WIN.blit(YELLOW_SPACESHIP, (self.yellow.x, self.yellow.y))\n",
    "        WIN.blit(RED_SPACESHIP, (self.red.x, self.red.y))\n",
    "\n",
    "        for self.bullet in self.red_bullets:\n",
    "            pygame.draw.rect(WIN, RED, self.bullet)\n",
    "\n",
    "        for self.bullet in self.yellow_bullets:\n",
    "            pygame.draw.rect(WIN, YELLOW, self.bullet)\n",
    "\n",
    "        pygame.display.update()   \n",
    "    \n",
    "    def draw_winner(self):\n",
    "        draw_text = WINNER_FONT.render(self.winner_text, 1, self.winner_colour)\n",
    "        WIN.blit(draw_text, (WIDTH/2 - draw_text.get_width()/2, HEIGHT/2 - draw_text.get_height()/2))\n",
    "        pygame.display.update()\n",
    "        pygame.time.delay(2500)"
   ]
  },
  {
   "cell_type": "code",
   "execution_count": null,
   "metadata": {},
   "outputs": [],
   "source": [
    "if __name__ == '__main__':\n",
    "    game = SpaceShooterEnv()\n",
    "    game_number = 0\n",
    "    \n",
    "    #game loop\n",
    "    while True:\n",
    "        game_over, yellow_health, red_health = game.step()\n",
    "        \n",
    "        if game_over == True:\n",
    "            game.reset() \n",
    "            game_number += 1\n",
    "            print(\"--------- Game number\", game_number, \"---------\")\n",
    "            print(\"Yellow health:\", yellow_health)\n",
    "            print(\"Red health:\", red_health)"
   ]
  }
 ],
 "metadata": {
  "kernelspec": {
   "display_name": "Python 3 (ipykernel)",
   "language": "python",
   "name": "python3"
  },
  "language_info": {
   "codemirror_mode": {
    "name": "ipython",
    "version": 3
   },
   "file_extension": ".py",
   "mimetype": "text/x-python",
   "name": "python",
   "nbconvert_exporter": "python",
   "pygments_lexer": "ipython3",
   "version": "3.9.10"
  }
 },
 "nbformat": 4,
 "nbformat_minor": 4
}
